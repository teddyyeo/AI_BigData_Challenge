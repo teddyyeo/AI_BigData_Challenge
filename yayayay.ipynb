{
 "cells": [
  {
   "cell_type": "code",
   "execution_count": 101,
   "metadata": {},
   "outputs": [],
   "source": [
    "import numpy as np\n",
    "import matplotlib.pyplot as plt\n",
    "import pandas as pd\n",
    "from sklearn.decomposition import PCA\n",
    "from sklearn.discriminant_analysis import LinearDiscriminantAnalysis as LDA\n",
    "from sklearn.manifold import TSNE"
   ]
  },
  {
   "cell_type": "code",
   "execution_count": 102,
   "metadata": {},
   "outputs": [],
   "source": [
    "df = pd.read_csv('./train.csv')"
   ]
  },
  {
   "cell_type": "code",
   "execution_count": 103,
   "metadata": {},
   "outputs": [],
   "source": [
    "label_ = list(set(df['label_action']))\n",
    "label_cnt = len(label_)\n",
    "\n",
    "idx = []\n",
    "for i in range (0, label_cnt):\n",
    "    idx.append(i)\n",
    "ldf = df.replace(label_, idx)"
   ]
  },
  {
   "cell_type": "markdown",
   "metadata": {},
   "source": [
    "# 0. Preprocessing"
   ]
  },
  {
   "cell_type": "markdown",
   "metadata": {},
   "source": [
    "## 0.1. Decode URL\n",
    "URL은 %NN 형태로 인코딩되어있기 때문에 디코딩을 해줄 것이다."
   ]
  },
  {
   "cell_type": "code",
   "execution_count": 104,
   "metadata": {},
   "outputs": [
    {
     "name": "stdout",
     "output_type": "stream",
     "text": [
      "Before: GET /sub_04_1_read.php?page=1&id=31%29%3BSELECT%20%2A%20FROM%20GENERATE_SERIES%289156%2C9156%2CCASE%20WHEN%20%289156%3D5350%29%20THEN%201%20ELSE%200%20END%29%20LIMIT%201-- HTTP/1.1\\r\\nCache-Control: no-cache\\r\\nUser-Agent: sqlmap/1.6.10#stable (https://sqlmap.org)\\r\\nReferer: http://10.0.17.20:80/sub_04_1_read.php\\r\\nHost: 10.0.17.20\\r\\nAccept: */*\\r\\nAccept-Encoding: gzip,deflate\\r\\nConnection: close\\r\\n\\r\\n\n",
      "After: GET /sub_04_1_read.php?page=1&id=31);SELECT * FROM GENERATE_SERIES(9156,9156,CASE WHEN (9156=5350) THEN 1 ELSE 0 END) LIMIT 1-- HTTP/1.1\\r\\nCache-Control: no-cache\\r\\nUser-Agent: sqlmap/1.6.10#stable (https://sqlmap.org)\\r\\nReferer: http://10.0.17.20:80/sub_04_1_read.php\\r\\nHost: 10.0.17.20\\r\\nAccept: */*\\r\\nAccept-Encoding: gzip,deflate\\r\\nConnection: close\\r\\n\\r\\n\n"
     ]
    }
   ],
   "source": [
    "from urllib.parse import unquote\n",
    "#test\n",
    "test_url = ldf.payload[4]\n",
    "dec_url = unquote(test_url)\n",
    "print(\"Before:\", test_url)\n",
    "print(\"After:\", dec_url)\n",
    "\n"
   ]
  },
  {
   "cell_type": "markdown",
   "metadata": {},
   "source": [
    "이런 형태로 모든 스트링에 적용시켜준다"
   ]
  },
  {
   "cell_type": "code",
   "execution_count": 105,
   "metadata": {},
   "outputs": [],
   "source": [
    "from urllib.parse import unquote\n",
    "decoded_payload = []\n",
    "for url in ldf.payload:\n",
    "    decoded_payload.append(unquote(url))\n",
    "pd.options.display.max_colwidth = 100\n",
    "ldf.payload = decoded_payload\n"
   ]
  },
  {
   "cell_type": "code",
   "execution_count": 106,
   "metadata": {},
   "outputs": [],
   "source": [
    "ldf.to_csv(\"./decoded.csv\", escapechar='\\\\')"
   ]
  },
  {
   "cell_type": "markdown",
   "metadata": {},
   "source": [
    "잘 디코딩이 된 것을 확인할 수 있다."
   ]
  },
  {
   "cell_type": "markdown",
   "metadata": {},
   "source": [
    "## 0.2. 불필요한 데이터 제거\n",
    "payload의 모든 내용이 학습에 도움이 되는 것은 아니다. \n",
    "문자열을 feature data로 사용할 때 중요한 것은 실제로 공격에 사용된 부분이다. \n",
    "따라서 크게 영향을 주지 않을 것으로 부분들을 제거할것이다"
   ]
  },
  {
   "cell_type": "code",
   "execution_count": 107,
   "metadata": {},
   "outputs": [
    {
     "name": "stdout",
     "output_type": "stream",
     "text": [
      "Number of dupes:  13246\n"
     ]
    }
   ],
   "source": [
    "duplicate_values = ldf['payload'].duplicated()\n",
    "i = 0\n",
    "cnt = 0\n",
    "for pl in df.payload:\n",
    "    if (duplicate_values[i] == True):\n",
    "        cnt += 1\n",
    "    i += 1\n",
    "print(\"Number of dupes: \", cnt)"
   ]
  },
  {
   "cell_type": "code",
   "execution_count": 108,
   "metadata": {},
   "outputs": [],
   "source": [
    "ldf = ldf.drop_duplicates(subset=['payload'])"
   ]
  },
  {
   "cell_type": "markdown",
   "metadata": {},
   "source": [
    "## Tokenizing\n",
    "공백, &, =, :, ;"
   ]
  },
  {
   "cell_type": "code",
   "execution_count": 109,
   "metadata": {},
   "outputs": [],
   "source": [
    "\n",
    "\n",
    "\n",
    "split_payload = []\n",
    "for str in ldf.payload:\n",
    "    table = str.maketrans(\"&=;:+ \", \",,,,,,\")\n",
    "    str = str.translate(table)\n",
    "    tokens = str.split(',')\n",
    "    while(\"\" in tokens):\n",
    "        tokens.remove('')\n",
    "    split_payload.append(tokens)\n",
    "pd.options.display.max_colwidth = 100\n",
    "ldf.payload = split_payload"
   ]
  },
  {
   "cell_type": "code",
   "execution_count": 110,
   "metadata": {},
   "outputs": [],
   "source": [
    "ldf.to_csv(\"./split.csv\")"
   ]
  },
  {
   "cell_type": "code",
   "execution_count": null,
   "metadata": {},
   "outputs": [],
   "source": []
  }
 ],
 "metadata": {
  "kernelspec": {
   "display_name": "Python 3",
   "language": "python",
   "name": "python3"
  },
  "language_info": {
   "codemirror_mode": {
    "name": "ipython",
    "version": 3
   },
   "file_extension": ".py",
   "mimetype": "text/x-python",
   "name": "python",
   "nbconvert_exporter": "python",
   "pygments_lexer": "ipython3",
   "version": "3.10.12"
  },
  "orig_nbformat": 4
 },
 "nbformat": 4,
 "nbformat_minor": 2
}
