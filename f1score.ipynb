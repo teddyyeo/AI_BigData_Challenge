{
 "cells": [
  {
   "cell_type": "code",
   "execution_count": null,
   "metadata": {},
   "outputs": [],
   "source": [
    "import numpy as np\n",
    "from sklearn.metrics import f1_score\n",
    "\n",
    "def macro_f1_score(y_true, y_pred, n_classes):\n",
    "    f1_scores = []\n",
    "    for c in range(n_classes):\n",
    "        y_true_c = (y_true == c)\n",
    "        y_pred_c = (y_pred == c)\n",
    "        f1_c = f1_score(y_true_c, y_pred_c)\n",
    "        f1_scores.append(f1_c)\n",
    "    return np.mean(f1_scores)\n",
    "\n",
    "\n",
    "# 샘플 데이터\n",
    "y_true = np.array([0, 1, 2, 0, 1, 2, 0, 1, 2])\n",
    "y_pred = np.array([0, 1, 1, 0, 1, 2, 0, 1, 1])\n",
    "\n",
    "\n",
    "# Macro F1 Score 계산\n",
    "n_classes = 3\n",
    "macro_f1 = macro_f1_score(y_true, y_pred, n_classes)\n",
    "print(\"Macro F1 Score:\", macro_f1)"
   ]
  }
 ],
 "metadata": {
  "language_info": {
   "name": "python"
  }
 },
 "nbformat": 4,
 "nbformat_minor": 2
}
